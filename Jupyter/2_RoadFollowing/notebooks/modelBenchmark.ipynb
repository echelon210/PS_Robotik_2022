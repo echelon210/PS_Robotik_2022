{
 "cells": [
  {
   "cell_type": "code",
   "execution_count": 3,
   "metadata": {},
   "outputs": [
    {
     "name": "stdout",
     "output_type": "stream",
     "text": [
      "Benchmarking result for squeezenet\n",
      "Milliseconds per frame: 19.027959384918212\n",
      "FPS: 52.55424293120007\n"
     ]
    }
   ],
   "source": [
    "import torch\n",
    "import torchvision\n",
    "import numpy as np\n",
    "\n",
    "\"\"\" SCRIPT TO BENCHMARK CNNs REGARDING THEIR THROUGHPUT. \"\"\"\n",
    "\n",
    "model_type = 'squeezenet'\n",
    "model_name = 'roadFollowing_V3_squeeze_conv.pth'\n",
    "\n",
    "if model_type == 'squeezenet':\n",
    "    model = torchvision.models.squeezenet1_1(pretrained=False)\n",
    "    model.classifier[1] = torch.nn.Conv2d(512, 1, kernel_size=1)\n",
    "    model.num_classes = 1\n",
    "\n",
    "if model_type == 'resnet':\n",
    "    model = torchvision.models.resnet18(pretrained=False)\n",
    "    model.fc = torch.nn.Linear(512, 1)\n",
    "\n",
    "model.load_state_dict(torch.load(model_name))\n",
    "device = torch.device('cuda')\n",
    "model.to(device)\n",
    "\n",
    "# Generate dummy input \n",
    "dummy_input = torch.randn(1, 3, 224, 224, dtype=torch.float).to(device)\n",
    "starter, ender = torch.cuda.Event(enable_timing=True), torch.cuda.Event(enable_timing=True)\n",
    "repetitions = 100\n",
    "timings = np.zeros((repetitions, 1))\n",
    "\n",
    "# Warm up the GPU\n",
    "for _ in range(10):\n",
    "    _ = model(dummy_input)\n",
    "# Measure throughput\n",
    "with torch.no_grad():\n",
    "    for rep in range(repetitions):\n",
    "        starter.record()\n",
    "        _ = model(dummy_input)\n",
    "        ender.record()\n",
    "        torch.cuda.synchronize()\n",
    "        curr_time = starter.elapsed_time(ender)\n",
    "        timings[rep] = curr_time\n",
    "\n",
    "mean_syn = np.sum(timings) / repetitions\n",
    "std_syn = np.std(timings)\n",
    "print(\"Benchmarking result for \" + str(model_type))\n",
    "print(\"Milliseconds per frame: \" + str(mean_syn))\n",
    "print(\"FPS: \" + str(1000 / mean_syn))"
   ]
  },
  {
   "cell_type": "code",
   "execution_count": null,
   "metadata": {},
   "outputs": [],
   "source": []
  }
 ],
 "metadata": {
  "kernelspec": {
   "display_name": "Python 3",
   "language": "python",
   "name": "python3"
  },
  "language_info": {
   "codemirror_mode": {
    "name": "ipython",
    "version": 3
   },
   "file_extension": ".py",
   "mimetype": "text/x-python",
   "name": "python",
   "nbconvert_exporter": "python",
   "pygments_lexer": "ipython3",
   "version": "3.6.9"
  }
 },
 "nbformat": 4,
 "nbformat_minor": 4
}
