{
 "cells": [
  {
   "cell_type": "code",
   "execution_count": 1,
   "metadata": {},
   "outputs": [],
   "source": [
    "from IPython.display import display\n",
    "import ipywidgets\n",
    "import traitlets\n",
    "from jetbot import Camera, bgr8_to_jpeg\n",
    "\n",
    "camera = Camera(fps=20)\n",
    "image_widget = ipywidgets.Image()\n",
    "traitlets.dlink((camera, 'value'), (image_widget, 'value'), transform=bgr8_to_jpeg)\n",
    "# display(image_widget)\n",
    "\n",
    "from jetbot import Robot\n",
    "robot = Robot()"
   ]
  },
  {
   "cell_type": "code",
   "execution_count": 2,
   "metadata": {},
   "outputs": [
    {
     "data": {
      "application/vnd.jupyter.widget-view+json": {
       "model_id": "eb7307df7eef4d5aadb6d62846f921e3",
       "version_major": 2,
       "version_minor": 0
      },
      "text/plain": [
       "FloatSlider(value=0.0, description='speed gain', max=1.0, step=0.01)"
      ]
     },
     "metadata": {},
     "output_type": "display_data"
    },
    {
     "data": {
      "application/vnd.jupyter.widget-view+json": {
       "model_id": "1cf58b9188da4028b66d8229128af896",
       "version_major": 2,
       "version_minor": 0
      },
      "text/plain": [
       "FloatSlider(value=0.0, description='steering gain', max=1.0, step=0.01)"
      ]
     },
     "metadata": {},
     "output_type": "display_data"
    },
    {
     "data": {
      "application/vnd.jupyter.widget-view+json": {
       "model_id": "ce9b202570e1446492de2d2d25ac3d5c",
       "version_major": 2,
       "version_minor": 0
      },
      "text/plain": [
       "FloatSlider(value=0.0, description='steering kd', max=0.5, step=0.001)"
      ]
     },
     "metadata": {},
     "output_type": "display_data"
    },
    {
     "data": {
      "application/vnd.jupyter.widget-view+json": {
       "model_id": "84602f86d7e7412489e4872bb464b2d5",
       "version_major": 2,
       "version_minor": 0
      },
      "text/plain": [
       "FloatSlider(value=0.0, description='braking', max=1.0, step=0.01)"
      ]
     },
     "metadata": {},
     "output_type": "display_data"
    },
    {
     "data": {
      "application/vnd.jupyter.widget-view+json": {
       "model_id": "9530f7d96a5543818f0b32d23ca13bd8",
       "version_major": 2,
       "version_minor": 0
      },
      "text/plain": [
       "FloatSlider(value=0.0, description='steering', max=1.0, min=-1.0)"
      ]
     },
     "metadata": {},
     "output_type": "display_data"
    }
   ],
   "source": [
    "speed_gain_slider = ipywidgets.FloatSlider(min=0.0, max=1.0, step=0.01, description='speed gain')\n",
    "steering_gain_slider = ipywidgets.FloatSlider(min=0.0, max=1.0, step=0.01, value=0.0, description='steering gain')\n",
    "steering_dgain_slider = ipywidgets.FloatSlider(min=0.0, max=0.5, step=0.001, value=0.0, description='steering kd')\n",
    "brake_slider = ipywidgets.FloatSlider(min=0.0, max=1.0, step=0.01, value=0.0, description='braking')\n",
    "steering_slider = ipywidgets.FloatSlider(min=-1.0, max=1.0, description='steering')\n",
    "\n",
    "display(speed_gain_slider, steering_gain_slider, steering_dgain_slider, brake_slider, steering_slider)"
   ]
  },
  {
   "cell_type": "code",
   "execution_count": 3,
   "metadata": {},
   "outputs": [],
   "source": [
    "import cv2\n",
    "import numpy as np\n",
    "import math\n",
    "\n",
    "def maskImage(image):\n",
    "    \"\"\" Method to define a region of interest with masking an image. \n",
    "        In(1): image - The image that should be masked \n",
    "        In(2): heightPercent - The percent of the height that should be masked\n",
    "        Out(1): returns a image where half of the image is masked with a black surface\n",
    "    \"\"\"\n",
    "    height, width = image.shape\n",
    "    mask = np.zeros_like(image)\n",
    "\n",
    "    # A polygon defining the region that should be masked as np.array\n",
    "    polygon = np.array([[\n",
    "        (0, height * 0.0),  # Up left\n",
    "        (width, height * 0.0),  # \n",
    "        (width, height),\n",
    "        (0, height),\n",
    "    ]], np.int32)\n",
    "\n",
    "    cv2.fillPoly(mask, polygon, 255)\n",
    "    return cv2.bitwise_and(image, mask)\n",
    "\n",
    "def findCenterline(image):\n",
    "    slope = 0.0\n",
    "\n",
    "    # Apply gaussian image blurring\n",
    "    gaussKernelSize = (3, 3)\n",
    "    blurred_img = cv2.GaussianBlur(image, gaussKernelSize, 0)\n",
    "    \n",
    "    # Convert to HSV image representation\n",
    "    hsv_img = cv2.cvtColor(blurred_img, cv2.COLOR_BGR2HSV)\n",
    "\n",
    "    # Filter out yellow of the center line\n",
    "    low_yellow = np.array([5, 40, 100])\n",
    "    up_yellow = np.array([50, 255, 255])\n",
    "    col_img = cv2.inRange(hsv_img, low_yellow, up_yellow)\n",
    "    \n",
    "    # Filter out region of interest\n",
    "    region_img = maskImage(col_img)\n",
    "    \n",
    "    # Apply canny edge detection\n",
    "    canny_img = cv2.Canny(region_img, 100, 150)\n",
    "    \n",
    "    lines = cv2.HoughLinesP(canny_img, rho=1, theta=np.pi/180, threshold=30, lines=np.array([]), minLineLength=5, maxLineGap=50)\n",
    "    if np.any(lines) == None:\n",
    "        pass\n",
    "    else:\n",
    "        # Center line detection\n",
    "        lines_x = []\n",
    "        lines_y = []\n",
    "        for line in lines:\n",
    "            for x1, y1, x2, y2 in line:\n",
    "                lines_x.extend([x1, x2])\n",
    "                lines_y.extend([y1, y2])\n",
    "\n",
    "        min_y = int(image.shape[0] * 0.0)\n",
    "        max_y = image.shape[0]  # <-- The bottom of the image\n",
    "        \n",
    "        poly = np.poly1d(np.polyfit(lines_y, lines_x, deg=1))\n",
    "        center_x_start = int(image.shape[1] * 0.5)  # start in the middle of the picture\n",
    "        center_x_end = int(poly(min_y))\n",
    "\n",
    "        if (center_x_end - center_x_start) == 0:\n",
    "            slope = 0\n",
    "        else:\n",
    "            slope = round(np.rad2deg(np.arctan2((max_y - min_y),\n",
    "                          (center_x_start - center_x_end))) - 90, 3)\n",
    "    return slope"
   ]
  },
  {
   "cell_type": "code",
   "execution_count": 4,
   "metadata": {},
   "outputs": [],
   "source": [
    "angle = 0.0\n",
    "angle_last = 0.0\n",
    "angle_history = []\n",
    "import time\n",
    "\n",
    "def execute(change):\n",
    "    global angle, angle_last, angle_history\n",
    "    image = change['new']\n",
    "    \n",
    "    target_speed = speed_gain_slider.value\n",
    "    \n",
    "    angle = findCenterline(image)\n",
    "    angle = np.deg2rad(angle)\n",
    "    \n",
    "\n",
    "    # Speed variational control\n",
    "    #angle_history.append(angle)\n",
    "    #if len(angle_history) >= 5:\n",
    "    #    angle_history.pop(0)\n",
    "    #brake = brake_slider.value * np.sum(np.abs(angle_history))\n",
    "    #angle_last = angle\n",
    "    \n",
    "    pid = angle * steering_gain_slider.value + (angle - angle_last) * steering_dgain_slider.value # + brake\n",
    "    \n",
    "    robot.left_motor.value = max(min(target_speed + pid, 1.0), 0.0)\n",
    "    robot.right_motor.value = max(min(target_speed - pid, 1.0), 0.0)\n",
    "    \n",
    "    steering_slider.value = pid  # Just visualize steering\n",
    "    \n",
    "execute({'new': camera.value})"
   ]
  },
  {
   "cell_type": "code",
   "execution_count": 5,
   "metadata": {},
   "outputs": [],
   "source": [
    "camera.observe(execute, names='value')"
   ]
  },
  {
   "cell_type": "code",
   "execution_count": null,
   "metadata": {},
   "outputs": [],
   "source": [
    "### LINE TO AVOID KILLING ###"
   ]
  },
  {
   "cell_type": "code",
   "execution_count": 6,
   "metadata": {},
   "outputs": [],
   "source": [
    "import time\n",
    "camera.unobserve(execute, names='value')\n",
    "time.sleep(0.1)  # add a small sleep to make sure frames have finished processing\n",
    "robot.stop()"
   ]
  },
  {
   "cell_type": "code",
   "execution_count": null,
   "metadata": {},
   "outputs": [],
   "source": []
  }
 ],
 "metadata": {
  "kernelspec": {
   "display_name": "Python 3",
   "language": "python",
   "name": "python3"
  },
  "language_info": {
   "codemirror_mode": {
    "name": "ipython",
    "version": 3
   },
   "file_extension": ".py",
   "mimetype": "text/x-python",
   "name": "python",
   "nbconvert_exporter": "python",
   "pygments_lexer": "ipython3",
   "version": "3.6.9"
  }
 },
 "nbformat": 4,
 "nbformat_minor": 4
}
