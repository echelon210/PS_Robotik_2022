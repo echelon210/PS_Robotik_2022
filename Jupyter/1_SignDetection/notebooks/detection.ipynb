{
 "cells": [
  {
   "cell_type": "code",
   "execution_count": 1,
   "metadata": {},
   "outputs": [],
   "source": [
    "import torch\n",
    "import torchvision\n",
    "\n",
    "# model = torchvision.models.alexnet(pretrained=False)\n",
    "# model.classifier[6] = torch.nn.Linear(model.classifier[6].in_features, 7)\n",
    "\n",
    "model = torchvision.models.squeezenet1_1(pretrained = False)\n",
    "model.classifier[1] = torch.nn.Conv2d(512, 7, kernel_size = 1)\n",
    "model.num_classes = 7\n",
    "\n",
    "model.load_state_dict(torch.load('signDetection_V2_squeeze_conv.pth'))\n",
    "device = torch.device('cuda')\n",
    "model = model.to(device)"
   ]
  },
  {
   "cell_type": "code",
   "execution_count": 4,
   "metadata": {},
   "outputs": [],
   "source": [
    "import cv2\n",
    "import numpy as np\n",
    "\n",
    "mean = 255.0 * np.array([0.485, 0.456, 0.406])\n",
    "stdev = 255.0 * np.array([0.229, 0.224, 0.225])\n",
    "\n",
    "normalize = torchvision.transforms.Normalize(mean, stdev)\n",
    "\n",
    "def preprocess(camera_value):\n",
    "    global device, normalize\n",
    "    x = camera_value\n",
    "    x[0:224, int(224*0): int(224*2/4)] =(0,0,0)\n",
    "    x = cv2.cvtColor(x, cv2.COLOR_BGR2RGB)\n",
    "    x = x.transpose((2, 0, 1))\n",
    "    x = torch.from_numpy(x).float()\n",
    "    x = normalize(x)\n",
    "    x = x.to(device)\n",
    "    x = x[None, ...]\n",
    "    return x"
   ]
  },
  {
   "cell_type": "code",
   "execution_count": 5,
   "metadata": {},
   "outputs": [
    {
     "data": {
      "application/vnd.jupyter.widget-view+json": {
       "model_id": "f7605bdbfa9b46fabe818171738fcb2b",
       "version_major": 2,
       "version_minor": 0
      },
      "text/plain": [
       "HBox(children=(Image(value=b'\\xff\\xd8\\xff\\xe0\\x00\\x10JFIF\\x00\\x01\\x01\\x00\\x00\\x01\\x00\\x01\\x00\\x00\\xff\\xdb\\x00C…"
      ]
     },
     "metadata": {},
     "output_type": "display_data"
    }
   ],
   "source": [
    "import traitlets\n",
    "from IPython.display import display\n",
    "import ipywidgets.widgets as widgets\n",
    "from jetbot import Camera, bgr8_to_jpeg\n",
    "\n",
    "camera = Camera.instance(width=224, height=224, fps=10)\n",
    "image = widgets.Image(format='jpeg', width=224, height=224)\n",
    "fast_slider = widgets.FloatSlider(description='fast', min=0.0, max=1.0, orientation='vertical')\n",
    "left_slider = widgets.FloatSlider(description='left', min=0.0, max=1.0, orientation='vertical')\n",
    "right_slider = widgets.FloatSlider(description='right', min=0.0, max=1.0, orientation='vertical')\n",
    "slow_slider = widgets.FloatSlider(description='slow', min=0.0, max=1.0, orientation='vertical')\n",
    "stop_slider = widgets.FloatSlider(description='stop', min=0.0, max=1.0, orientation='vertical')\n",
    "nothing_slider = widgets.FloatSlider(description='nothing', min=0.0, max=1.0, orientation='vertical')\n",
    "attention_slider = widgets.FloatSlider(description='attention', min=0.0, max=1.0, orientation='vertical')\n",
    "\n",
    "camera_link = traitlets.dlink((camera, 'value'), (image, 'value'), transform=bgr8_to_jpeg)\n",
    "\n",
    "display(widgets.HBox([image, fast_slider, left_slider, right_slider, slow_slider, stop_slider, nothing_slider, attention_slider]))\n",
    "\n",
    "from jetbot import Robot\n",
    "robot = Robot()"
   ]
  },
  {
   "cell_type": "code",
   "execution_count": 6,
   "metadata": {},
   "outputs": [],
   "source": [
    "import torch.nn.functional as F\n",
    "import time\n",
    "\n",
    "def update(change):\n",
    "    global fast_slider, left_slider, right_slider, slow_slider, stop_slider, robot\n",
    "    x = change['new'] \n",
    "    x = preprocess(x)\n",
    "    y = model(x)\n",
    "    \n",
    "    # we apply the `softmax` function to normalize the output vector so it sums to 1 (which makes it a probability distribution)\n",
    "    y = F.softmax(y, dim=1)\n",
    "    \n",
    "    prob_fast = float(y.flatten()[1])\n",
    "    prob_left = float(y.flatten()[2])\n",
    "    prob_right = float(y.flatten()[4])\n",
    "    prob_slow = float(y.flatten()[5])\n",
    "    prob_stop = float(y.flatten()[6])\n",
    "    prob_nothing = float(y.flatten()[3])\n",
    "    prob_attention = float(y.flatten()[0])\n",
    "    # prob_worker = float(y.flatten()[5])\n",
    "    \n",
    "    fast_slider.value = prob_fast\n",
    "    left_slider.value = prob_left\n",
    "    right_slider.value = prob_right\n",
    "    slow_slider.value = prob_slow\n",
    "    stop_slider.value = prob_stop\n",
    "    nothing_slider.value = prob_nothing\n",
    "    attention_slider.value = prob_attention\n",
    "    \n",
    "    #if prob_blocked < 0.5:\n",
    "    #    robot.forward(0.4)\n",
    "    #else:\n",
    "    #    robot.left(0.4)\n",
    "    \n",
    "    time.sleep(0.001)\n",
    "        \n",
    "update({'new': camera.value})  # we call the function once to intialize"
   ]
  },
  {
   "cell_type": "code",
   "execution_count": 7,
   "metadata": {},
   "outputs": [],
   "source": [
    "camera.observe(update, names='value')  # this attaches the 'update' function to the 'value' traitlet of our camera"
   ]
  },
  {
   "cell_type": "code",
   "execution_count": 8,
   "metadata": {},
   "outputs": [],
   "source": [
    "import time\n",
    "\n",
    "camera.unobserve(update, names='value')\n",
    "\n",
    "time.sleep(0.1)  # add a small sleep to make sure frames have finished processing\n",
    "\n",
    "robot.stop()"
   ]
  },
  {
   "cell_type": "code",
   "execution_count": null,
   "metadata": {},
   "outputs": [],
   "source": []
  }
 ],
 "metadata": {
  "kernelspec": {
   "display_name": "Python 3",
   "language": "python",
   "name": "python3"
  },
  "language_info": {
   "codemirror_mode": {
    "name": "ipython",
    "version": 3
   },
   "file_extension": ".py",
   "mimetype": "text/x-python",
   "name": "python",
   "nbconvert_exporter": "python",
   "pygments_lexer": "ipython3",
   "version": "3.6.9"
  }
 },
 "nbformat": 4,
 "nbformat_minor": 4
}
